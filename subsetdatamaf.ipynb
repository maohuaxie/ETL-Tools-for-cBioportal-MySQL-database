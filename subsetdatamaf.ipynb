{
 "cells": [
  {
   "cell_type": "code",
   "execution_count": 1,
   "metadata": {
    "collapsed": true
   },
   "outputs": [],
   "source": [
    "import pandas as pd\n"
   ]
  },
  {
   "cell_type": "code",
   "execution_count": 2,
   "metadata": {},
   "outputs": [],
   "source": [
    "df = pd.read_table(\"/home/maohuaxie/cbio/total.maf\", comment=\"#\")\n",
    "#df"
   ]
  },
  {
   "cell_type": "code",
   "execution_count": 107,
   "metadata": {
    "collapsed": true
   },
   "outputs": [],
   "source": [
    "df1=df.iloc[:,0:42]\n",
    "df1['Tumor_Sample_Barcode']=list(map(lambda x: x[4],df1['Tumor_Sample_Barcode'].str.split('/')))\n",
    "#df1['Tumor_Sample_Barcode']=df1['Tumor_Sample_Barcode'].astype(str) +'_01'\n",
    "#df1"
   ]
  },
  {
   "cell_type": "code",
   "execution_count": 55,
   "metadata": {
    "scrolled": true
   },
   "outputs": [
    {
     "data": {
      "text/plain": [
       "740"
      ]
     },
     "execution_count": 55,
     "metadata": {},
     "output_type": "execute_result"
    }
   ],
   "source": [
    "len(df1['Tumor_Sample_Barcode'].unique())"
   ]
  },
  {
   "cell_type": "code",
   "execution_count": 108,
   "metadata": {
    "collapsed": true
   },
   "outputs": [],
   "source": [
    "dfmaf = pd.read_csv(\"/home/maohuaxie/cbio/cmp26_synoptic_dump.deided.alt_only.20170904.csv\")\n",
    "dfmaf.rename(columns={'ACC_NO':'Tumor_Sample_Barcode'}, inplace=True)\n",
    "dfmaf['Tumor_Sample_Barcode']=dfmaf['Tumor_Sample_Barcode'].astype(str) +'-01'\n",
    "#dfmaf.rename(columns={'ACC_NO_HASH_SHORT':'Tumor_Sample_Barcode'}, inplace=True)\n",
    "#dfmaf['Tumor_Sample_Barcode']=dfmaf['Tumor_Sample_Barcode'].astype(str) +'_01'\n",
    "#dfmaf\n"
   ]
  },
  {
   "cell_type": "code",
   "execution_count": 109,
   "metadata": {
    "collapsed": true,
    "scrolled": true
   },
   "outputs": [],
   "source": [
    "dfmaf2 = pd.read_csv(\"/home/maohuaxie/cbio/cmp26_synoptic_dump.deided.alt_only.201709042.csv\")\n",
    "#dfmaf2"
   ]
  },
  {
   "cell_type": "code",
   "execution_count": 110,
   "metadata": {
    "collapsed": true
   },
   "outputs": [],
   "source": [
    "dfsub=pd.merge(dfmaf2,dfmaf, how = \"inner\", on =[\"ACC_NO_HASH_SHORT\"])\n",
    "#dfsub\n"
   ]
  },
  {
   "cell_type": "code",
   "execution_count": 106,
   "metadata": {},
   "outputs": [
    {
     "data": {
      "text/plain": [
       "603"
      ]
     },
     "execution_count": 106,
     "metadata": {},
     "output_type": "execute_result"
    }
   ],
   "source": [
    "dfmaf3 = pd.read_csv(\"/home/maohuaxie/cbio/cmp26_synoptic_dump.deided.alt_only.201709043.csv\")\n",
    "dfmaf3[['ACC_NO_HASH_SHORT','GENE','HGVSC']]\n",
    "len(dfmaf3['ACC_NO_HASH_SHORT'].unique())"
   ]
  },
  {
   "cell_type": "code",
   "execution_count": 111,
   "metadata": {
    "collapsed": true
   },
   "outputs": [],
   "source": [
    "datasub=pd.merge(dfmaf3,dfsub, how = \"right\", on =[\"ACC_NO_HASH_SHORT\"])\n",
    "#datasub"
   ]
  },
  {
   "cell_type": "code",
   "execution_count": 112,
   "metadata": {
    "scrolled": true
   },
   "outputs": [
    {
     "name": "stderr",
     "output_type": "stream",
     "text": [
      "/home/maohuaxie/.local/lib/python3.5/site-packages/pandas/core/frame.py:2844: SettingWithCopyWarning: \n",
      "A value is trying to be set on a copy of a slice from a DataFrame\n",
      "\n",
      "See the caveats in the documentation: http://pandas.pydata.org/pandas-docs/stable/indexing.html#indexing-view-versus-copy\n",
      "  **kwargs)\n"
     ]
    }
   ],
   "source": [
    "dfsubf=datasub[['ACC_NO_HASH_SHORT','GENE','HGVSC','Tumor_Sample_Barcode']]\n",
    "dfsubf.rename(columns={'HGVSC':'HGVSc'}, inplace=True)\n",
    "#dfsubf\n"
   ]
  },
  {
   "cell_type": "code",
   "execution_count": 100,
   "metadata": {},
   "outputs": [
    {
     "data": {
      "text/plain": [
       "724"
      ]
     },
     "execution_count": 100,
     "metadata": {},
     "output_type": "execute_result"
    }
   ],
   "source": [
    "len(dfsubf['Tumor_Sample_Barcode'].unique())"
   ]
  },
  {
   "cell_type": "code",
   "execution_count": 113,
   "metadata": {
    "collapsed": true,
    "scrolled": true
   },
   "outputs": [],
   "source": [
    "dfst=pd.merge(dfsubf,df1,how = \"left\", on =[\"HGVSc\",'Tumor_Sample_Barcode'])\n",
    "#dfst=dfst.dropna(subset=['ACC_NO_HASH_SHORT','GENE'])\n",
    "dfst=dfst.iloc[:,4:46]\n",
    "#dfst"
   ]
  },
  {
   "cell_type": "code",
   "execution_count": null,
   "metadata": {
    "collapsed": true
   },
   "outputs": [],
   "source": []
  },
  {
   "cell_type": "code",
   "execution_count": null,
   "metadata": {
    "collapsed": true
   },
   "outputs": [],
   "source": []
  },
  {
   "cell_type": "code",
   "execution_count": null,
   "metadata": {
    "collapsed": true
   },
   "outputs": [],
   "source": []
  },
  {
   "cell_type": "code",
   "execution_count": null,
   "metadata": {
    "collapsed": true
   },
   "outputs": [],
   "source": []
  },
  {
   "cell_type": "code",
   "execution_count": 13,
   "metadata": {
    "collapsed": true,
    "scrolled": true
   },
   "outputs": [],
   "source": [
    "#dfcli1=dfcli[dfcli[\"PRIMARY_TUMOR_TYPE\"]==\"Lung\"]\n"
   ]
  },
  {
   "cell_type": "code",
   "execution_count": 25,
   "metadata": {
    "collapsed": true
   },
   "outputs": [],
   "source": [
    "import csv\n",
    "RESULT = dfcli.Tumor_Sample_Barcode.unique()\n",
    "with open(\"/home/maohuaxie/cbio/hashid.csv\",'w') as resultFile:\n",
    "    wr = csv.writer(resultFile, dialect='excel')\n",
    "    wr.writerow(RESULT)\n"
   ]
  },
  {
   "cell_type": "code",
   "execution_count": 24,
   "metadata": {
    "collapsed": true
   },
   "outputs": [],
   "source": [
    "(dfcli['Tumor_Sample_Barcode'].astype(str) + '-01').unique()\n",
    "import csv\n",
    "RESULT = (dfcli['Tumor_Sample_Barcode'].astype(str) + '-01').unique()\n",
    "with open(\"/home/maohuaxie/cbio/hashid01.csv\",'w') as resultFile:\n",
    "    wr = csv.writer(resultFile, dialect='excel')\n",
    "    wr.writerow(RESULT)"
   ]
  },
  {
   "cell_type": "code",
   "execution_count": 23,
   "metadata": {
    "collapsed": true,
    "scrolled": true
   },
   "outputs": [],
   "source": [
    "#dfcli.PRIMARY_TUMOR_TYPE"
   ]
  },
  {
   "cell_type": "code",
   "execution_count": 22,
   "metadata": {
    "collapsed": true
   },
   "outputs": [],
   "source": [
    "#dfcli.TUMOR_PERCENTAGE"
   ]
  },
  {
   "cell_type": "code",
   "execution_count": 21,
   "metadata": {
    "collapsed": true
   },
   "outputs": [],
   "source": [
    "#dfcli.ANATOMIC_SITE"
   ]
  },
  {
   "cell_type": "code",
   "execution_count": 16,
   "metadata": {
    "collapsed": true
   },
   "outputs": [],
   "source": [
    "maf = pd.read_table(\"/home/maohuaxie/cbio/synoptic.txt\", comment=\"#\")\n",
    "maf2=maf[maf[\"Hugo_Symbol\"]==\"TP53\"]"
   ]
  },
  {
   "cell_type": "code",
   "execution_count": 17,
   "metadata": {
    "collapsed": true
   },
   "outputs": [],
   "source": [
    "#emoryp53 = pd.read_csv(\"/home/maohuaxie/cbio/emoryp53.csv\")\n",
    "#emoryp53.rename(columns={'ACC_NO':'Tumor_Sample_Barcode'}, inplace=True)\n",
    "#emoryp53"
   ]
  },
  {
   "cell_type": "code",
   "execution_count": 14,
   "metadata": {
    "collapsed": true
   },
   "outputs": [],
   "source": [
    "lungmaf=maf.loc[maf.Tumor_Sample_Barcode.isin(emoryp53.Tumor_Sample_Barcode.unique())]\n"
   ]
  },
  {
   "cell_type": "code",
   "execution_count": 15,
   "metadata": {
    "collapsed": true
   },
   "outputs": [],
   "source": [
    "lungmaf.to_csv(\"/home/maohuaxie/cbio/lungsnapotic.txt\",sep='\\t', index=False, header=True)"
   ]
  },
  {
   "cell_type": "code",
   "execution_count": 27,
   "metadata": {
    "collapsed": true
   },
   "outputs": [],
   "source": [
    "dfcli.to_csv(\"/home/maohuaxie/cbio/merged.csv\",sep=',', index=False, header=True)"
   ]
  },
  {
   "cell_type": "code",
   "execution_count": 44,
   "metadata": {
    "collapsed": true
   },
   "outputs": [],
   "source": [
    "p53lung.to_csv(\"/home/maohuaxie/cbio/p53lung.csv\",sep=',', index=False, header=True)"
   ]
  },
  {
   "cell_type": "code",
   "execution_count": 32,
   "metadata": {
    "collapsed": true
   },
   "outputs": [],
   "source": [
    "df1.to_csv(\"/home/maohuaxie/cbio/snapT.txt\",sep='\\t', index=False, header=True)"
   ]
  },
  {
   "cell_type": "code",
   "execution_count": 17,
   "metadata": {
    "collapsed": true
   },
   "outputs": [],
   "source": [
    "snopticmaf=pd.read_table(\"/home/maohuaxie/cbio/synoptic.txt\",comment=\"#\")"
   ]
  },
  {
   "cell_type": "code",
   "execution_count": 14,
   "metadata": {
    "collapsed": true,
    "scrolled": true
   },
   "outputs": [],
   "source": [
    "#snopticmaf.Tumor_Sample_Barcode.unique()"
   ]
  },
  {
   "cell_type": "code",
   "execution_count": 6,
   "metadata": {
    "scrolled": true
   },
   "outputs": [
    {
     "data": {
      "text/plain": [
       "array(['76025765', '48f8b042', '473f0ff5', 'f5829588', '2d3a1bbb',\n",
       "       '01db5a7c', '11100d36', '64bb1971', '6487e041', 'e2eafb33',\n",
       "       '14f54655', '91769f90', '1894322b', '9690dff0', '7b5cef2a',\n",
       "       'abcc0d65', '62579fb2', '84688726', 'bb62cca7', '635384f4',\n",
       "       'b90884c5', '5a746924', '255a0218', 'bb3514ab', 'b2bbae1c',\n",
       "       '802491af', '65c202e6', '901f0100', '0547d071', 'aa80b45e',\n",
       "       '20851540', '5b4339b6', 'be66d8d3', '81df3f97', '8c950643',\n",
       "       '6bf3e66a', '14939d06', '2e4a181a', '0ff4d96c', '875a8b69',\n",
       "       '34e989c4', 'dfbd6640', 'd78386b1', 'f050c908', '0690fe84',\n",
       "       'b0977d38', '047464c0', '73ef0e43', '06fbc7ee', '03c0235b',\n",
       "       '1d9a3c8b', '31153839', '3af61e12', '56afec66', 'f17cba1c',\n",
       "       'ef723f45', '7fe815de', '0c2798fc', '3db14306', 'b150351e',\n",
       "       '406267c6', '9d2f2754', 'e2669ac1', 'b04c7e22', '7ea4bc3a',\n",
       "       '3fea73b7', 'e3e6f117', '8de13117', 'debddfd5', '331a2986',\n",
       "       '8ecf52eb', '34a70ec7', 'c4c89ecf', '2e716263', '309f92b8',\n",
       "       'ffc6fa69', 'a8696e89', '2ffdbcd6', '42088036', '67e60e9a',\n",
       "       '71997952', '29001bba', '64166709', '8066ce81', '094bed97',\n",
       "       'd6777906', '3cff7551', '64637df0', '0d8209a5', 'abb817e8',\n",
       "       'abb70527', '975dba01', 'ab5d89aa', 'e1f1b9f1', '7fd00311',\n",
       "       '4436539a', 'b48edca3', '08aec933', 'bb672548', 'a104517f',\n",
       "       '6b6a49c9', '37cf0058', 'ab809ec0', 'c7f2ae1f', 'cc98a0d6',\n",
       "       '75d1e140', 'ba186814', '67efbc32', '93312dbf', 'c99fb0ea',\n",
       "       '50a1cd08', '8eb02867', '496f59be', '898e2df7', 'f9e88ea1',\n",
       "       'c6ac9461', 'b605017b', '1cd921a1', 'e462da3a', '37ddefc2',\n",
       "       '7d26b726', 'c9da1ecd', '24dfd3f2', '1edb5a9c', '53ff5c81',\n",
       "       'd0368b09', '7ffdcc70', '127b9b05', '8d038f04', '495e367e',\n",
       "       '0f971901', '6d5799d7', 'e7577fec', '7da171bb', '86d014eb',\n",
       "       '013c6282', '0612bafb', 'c97f4b5a', 'f8e4c086', 'b179bfba',\n",
       "       '33195119', '6159f9e1', 'dc5adfaa', 'dc803ad2', '352d61c5',\n",
       "       'd820e924', 'ae72e069', '64eeece2', '0331acd2', '2ac64c0c',\n",
       "       '2e99446e', '91cfb540', '1a2c55e3', '9aec48e3', 'd8774cba',\n",
       "       'ead38cc7', 'f660f361', '03ccd5c6', '860de073', '25208985',\n",
       "       '1b01606c', '3c36cc53', 'c9019ba4', '2f5b6a15', 'c70bec6a',\n",
       "       '8b74c403', 'dc77b6d2', '6a0defbb', 'f55d964a', '46bd8432',\n",
       "       'f4d29c8f', '83eeda78', 'fa1ec896', '26653157', 'cc44392e',\n",
       "       'a8171e47', '4540846b', '05229621', '568d8c40', '9b60ef23',\n",
       "       '42d90df4', 'eeed12bc', 'bcdc99ad', 'df813beb', '862141f7',\n",
       "       'b411b9a6', '4c267efe', '92aecb47', 'd996f420', '56119e86',\n",
       "       '9d92eb38', '48593de4', '5d35dea3', '1a8a82d6', '31ea7934',\n",
       "       'ad73ff7a', '5f64b59a', '024610e2', '4871ca11', 'e2e94e3e',\n",
       "       '654bfb14', 'a16f2a27', '7bcdef97', 'da4a5940', '7f092308',\n",
       "       '46c3ef62', 'd0840abe', 'de8cfe14', '3de47972', '83daccdc',\n",
       "       '89c6deca', '668ac2af', 'f88662d9', 'c11eb841', '8f799833',\n",
       "       '0c40c50e', 'e0e181a7', 'bff85876', 'dca9c81b', '15df68c4',\n",
       "       'ff3cc24e', '414eb6dd', 'c622416c', '64ad821e', '16be04c0',\n",
       "       'b5a28843', 'dff78f8f', '15be06c2', '1bca873e', '60ada72f',\n",
       "       '461799ac', 'b8c434d8', '1d0fc9fa', '287c38bd', 'efff5fa3',\n",
       "       '0ddf379a', '0f0b6520', '25f830ed', 'dfcdb2d2', 'e44efe81',\n",
       "       '9c94e7e2', '67e35e0d', '9cff6ed5', '4f56d05f', 'f950d2a9',\n",
       "       '977f7fa0', '64b0c9eb', '5c7d2bbe', '02f5abd6', '35c6eb43',\n",
       "       '929867c9', 'b709e845', '54d1cdb2', 'e09f9fb1', '20ee8f03',\n",
       "       '495d3794', 'c4967f3e', 'de756737', '2a49f860', '30cee50d',\n",
       "       'c1422510', '4e3d1def', '71b5c193', '0a8a0bde', '45990107',\n",
       "       'c5f3cf82', '7046437b', '7ed0931b', '02a60f51', 'f3870e7f',\n",
       "       '26565535', '6998b883', '5fb78b8f', '8aaff65b', '6568724e',\n",
       "       '009b940c', '8c1c6b91', '6b5dfae2', '3bf48f7b', 'df9e8741',\n",
       "       '58dce36f', '89a1915d', '4d8dc1b8', '05fe4c47', '03cb92ab',\n",
       "       '41e7661d', 'b5194e34', '790b8877', '802d4582', '90fd77c3',\n",
       "       '3357061d', '796f7084', 'ef6df705', '92b65c3d', 'e44feab1',\n",
       "       '1ddb56b8', 'dbe16d8a', '7c08b61a', '4b0c9aa9', 'b958c0e6',\n",
       "       'aabe73b5', '128714c8', '7045ac9d', '51107d77', 'e07faf97',\n",
       "       '36a56951', '78cb0344', '4cbb830e', '3a7dc2df', 'f3e1756a',\n",
       "       '97baab35', '4067bc66', 'd703acb1', '12cc44cf', 'ea1a71b7',\n",
       "       '4d0384e7', '48cb75ac', 'f9cebb20', '9b052356', 'cad63a55',\n",
       "       '3622369d', '39e4409c', '3a7cbfd5', '50d2e0c9', 'f31ee0a0',\n",
       "       'b8c431ef', '7db9e989', 'e1c14367', '36aa5f0c', 'b664cf41',\n",
       "       '4e13e76d', '2093577d', 'fa770e43', '3473a7d0', 'fdc87d0b',\n",
       "       '06e380e7', '760974fc', 'b02579d8', '0454c8ee', 'd3ff859d',\n",
       "       'aedd6f91', '3e9fde9b', '1017a12e', '1bd09e82', '7b8ccdf9',\n",
       "       '4479e698', '8200c001', '5c6f4b65', 'e5319a42', '3926977b',\n",
       "       '646c8ca4', '43126ab5', '55277dfb', 'aa8da70c', 'c63b3784',\n",
       "       'd2ad8c3c', 'e5151fe3', '552a834c', 'b764f5e0', 'e1df8397',\n",
       "       '09a69e19', '1b54502a', '05549c3f', '847a4f05', '7b145a22',\n",
       "       'add1ecf7', '97dc55c5', '5cd9485e', 'ab41efbf', '7d222956',\n",
       "       'c1771826', 'd7880ecf', '87a26f8b', '1292a07e', 'fb61350e',\n",
       "       '1cab2426', 'd403812a', '02466d26', 'baf68f59', 'cdf9372c',\n",
       "       '655cc630', '33f71bad', '42a1cb6e', 'b62af2ba', '3c6a82c0',\n",
       "       '616550b4', '4e6e13f5', 'cc1d0489', '4bd31763', 'b1b1a208',\n",
       "       '690fe831', 'c9f18c5a', '24623f68', '7d36e84f', 'e8f5ea03',\n",
       "       '1e9c60a1', '1e7efa51', 'a940331d', 'a192f317', 'a6b9052c',\n",
       "       'b298a23b', '43286d65', '61436308', '6ac5d20a', '63fa6849',\n",
       "       'f510471a', '5c9c7532', '81a77141', '5680b657', '8dbd824d',\n",
       "       '50f7e874', '91b86a0e', 'a2ac074e', '8f9b9db1', 'ea93d08a',\n",
       "       '96c9e98b', '80882b0b', '3aa21a3d', '05b33c90', '87255623',\n",
       "       'a0e7e2cb', '33e16f9f', '9b8ff915', '2e0edc69', '2e9453a3',\n",
       "       'eb72ed0f', '79f184c8', '9d4ff3a8', 'fd38c256', 'd5acecdc',\n",
       "       '23e8a1e2', 'efcb00c5', '2187b002', '9d5c8180', '8c4d8c8f',\n",
       "       'd502f2ef', 'ae7b1e16', 'c3576e34', '9ec72531', '990c9fd2',\n",
       "       '0675b664', 'b4595589', '24464cce', 'e62efb8c', '31a8fb6e',\n",
       "       'a590f88d', '23a3a801', '39eb06bf', '46381725', 'e96d1be0',\n",
       "       'fcb44f41', 'bd0c62a1', '4f3a6f1d', 'c42ae90b', '5cb4394d',\n",
       "       '4414ab85', '32379493', 'ab93440e', '47cb61f2', '20f28136',\n",
       "       '21a8290e', '02697c6d', '1e65e8b6', '34576883', '6d045966',\n",
       "       '3c5df01f', '985020d3', 'bcc3f989', 'd0aaf0c7', 'f7bd0de8',\n",
       "       'b8511bb3', '202e508e', 'bc0b143b', 'bdc768be', 'a6db7f6c',\n",
       "       '88f58907', '29a001e2', '4ac4b868', 'b6991a5c', '9a1035ce',\n",
       "       '381ca51d', '6b8f4717', '38000245', '8132dd76', '5815dfa7',\n",
       "       '30afda7c', 'a178c4cb', '74aeecab', '073def33', '1237b274',\n",
       "       '1cc5c083', 'cd7d91f7', 'f26b6f30', '3e66c53a', 'dc1467b7',\n",
       "       'dcedb1d2', '39535c98', '3e8fcd74', 'f10a5916', '59540bd3',\n",
       "       '091795bc', 'f03484cb', '0477d43c', 'a084490c', 'fc1ad279',\n",
       "       '866db09d', '13e26b50', '7b4bfa5f', 'e88ae827', '062e8a9e',\n",
       "       '4d3bcfe2', '37815165', '411a001f', 'd8051124', '7bfb15e1',\n",
       "       '67917c86', 'cd368f02', '1ed6430b', '4217f682', '7ab14d69',\n",
       "       'dc15e822', '89da0da9', '8840a9aa', '66f142c3', '6b2f40b3',\n",
       "       'b4de3c59', 'ab775758', '2f96d678', 'a6e63b44', '326f1d2f',\n",
       "       'fb66f93d', 'ca1a7ab1', '27cbbd55', '091d8c48', 'f8032003',\n",
       "       'a44b4c9b', '8e6fd9bb', 'e6f48ccb', '3baed49c', 'f89de8b6',\n",
       "       '21f7094b', '661c9e14', 'f6ebbf73', '65ebc0b4', 'd14c463c',\n",
       "       '8acb6cfd', 'f7338490', 'f1123980', '9ba8ade5', '21928302',\n",
       "       '768b77cd', '233afd27', 'b035e82e', 'a8c801ac', 'f92d9a1d',\n",
       "       'c9a8f599', 'a6922987', '55f7fa57', '25d487f0', 'a298b999',\n",
       "       '67a2483a', 'd28780af', 'ec3926c7', 'a0ea60ad', '14eb3726',\n",
       "       '71c37863', 'fb262004', '0d6dd13e', '5a7a5b5f', 'd5e8738a',\n",
       "       '4e49b469', 'cb56cfe9', '0a84b54b', '76fff197', 'fcd5c8ca',\n",
       "       '9c6ccd53', '98070171', '187a3558', '68799ec4', '3747f7f3',\n",
       "       '66fb73da', 'aadf79f5', '1cbef065', '2e85e981', '2f7e8ec4',\n",
       "       '835c753d', 'b8f5a8a4', 'e1bf9708', '6487f45d', 'dd3f733f',\n",
       "       '661e8b98', 'bfe25e14', 'd9bddc27', 'defaa333', '2d536910',\n",
       "       '476523fe', '88cd5f69', '48366469', '86121d94', 'f78c8a8c',\n",
       "       'aa6632dc', '37bcade3', 'b1fde738', '27d91991', 'f32cc9cf',\n",
       "       '40239bcc', '50f39a3b', '0cb3a9b7', 'c28344dc', 'ff8e9400',\n",
       "       'b9209ecb', 'f1ced4e7', 'bfca9643', 'a2052e77', '64774238',\n",
       "       'a55dbcbd', 'a493fe7a', 'baaf3fe6', 'e06e8d87', '1c929132',\n",
       "       '2e71e4de', '76786e3c', '9e0f4467', '9ae072e4', 'fed4559d',\n",
       "       '5511c855', '419c5c86', '24783163', 'acc3666a', '64ea7aba',\n",
       "       '7e1a1d26', 'df957ae8', 'b333da81', 'f32f5fee', '718fe2fc',\n",
       "       'cc14f5bf', 'ea89a640', '47284821', 'c37120e9', 'bc27a44c',\n",
       "       '0446ec76', '0c8a6f67', 'f5f2cc27', '980d3988', 'c90f33b7',\n",
       "       '28d7815b', '5b1552d1', '38c4d146', 'a2f7d7ff', '5184235d',\n",
       "       '5d2156c2', '28d3d2aa', 'fff766f7', '11e5d6b2', '5bcad7f2',\n",
       "       '4ed23d2c', '600ca1a6', '6648eb98', 'd9819d62', '5bf58db6',\n",
       "       '3db9e45c', '3ab7b66c', '261b3d66', '5960f9f9', '3b0da954',\n",
       "       '344d877e', '5c8ff544', 'aee4c445', '1304388d', '1bbc6f59',\n",
       "       'af8c4f80', '5e84649d', 'b1a3d34d', '0fddd162', 'effb8a21',\n",
       "       '203ece42', 'c496fe24', '02e08012', '52cf82ef', '1384ffc8',\n",
       "       '084b83ee', 'eae06fea', '6ca898e7', 'bf2ce5ca', '37f2ce60',\n",
       "       'd378246c', 'f0fa706b', 'dec2b814', '21e56137', '187af661',\n",
       "       '1a5f7ead', '3d0ca905', 'f0cb31dc', '9c1419d9', '7bebaae0',\n",
       "       '213947da', '0c35e127', '7280130e', '53cf8b67', 'db7ee5eb',\n",
       "       'e433911d', '9b053689', 'b0ce4dfc', '0769212d', '343e7e26',\n",
       "       'fbf51ded', 'c9b46077', '4dbfdd9e', '3eed5c61', '740288c6',\n",
       "       '56c5c99b', '08bd1674', 'ef50bb5c', '0ff81a32', '4aa72fd5',\n",
       "       '682eb574', '9231b497', '3dec5821', '9e519260', '41e5d4b0',\n",
       "       'a8a3f9e2', '13a0501a', '4b06adfd', '11979e6a'], dtype=object)"
      ]
     },
     "execution_count": 6,
     "metadata": {},
     "output_type": "execute_result"
    }
   ],
   "source": [
    "df1.Tumor_Sample_Barcode.unique()"
   ]
  },
  {
   "cell_type": "code",
   "execution_count": 7,
   "metadata": {},
   "outputs": [
    {
     "data": {
      "text/plain": [
       "array(['76025765-01', '48f8b042-01', '473f0ff5-01', 'f5829588-01',\n",
       "       '2d3a1bbb-01', '01db5a7c-01', '11100d36-01', '64bb1971-01',\n",
       "       '6487e041-01', 'e2eafb33-01', '14f54655-01', '91769f90-01',\n",
       "       '1894322b-01', '9690dff0-01', '7b5cef2a-01', 'abcc0d65-01',\n",
       "       '62579fb2-01', '84688726-01', 'bb62cca7-01', '635384f4-01',\n",
       "       'b90884c5-01', '5a746924-01', '255a0218-01', 'bb3514ab-01',\n",
       "       'b2bbae1c-01', '802491af-01', '65c202e6-01', '901f0100-01',\n",
       "       '0547d071-01', 'aa80b45e-01', '20851540-01', '5b4339b6-01',\n",
       "       'be66d8d3-01', '81df3f97-01', '8c950643-01', '6bf3e66a-01',\n",
       "       '14939d06-01', '2e4a181a-01', '0ff4d96c-01', '875a8b69-01',\n",
       "       '34e989c4-01', 'dfbd6640-01', 'd78386b1-01', 'f050c908-01',\n",
       "       '0690fe84-01', 'b0977d38-01', '047464c0-01', '73ef0e43-01',\n",
       "       '06fbc7ee-01', '03c0235b-01', '1d9a3c8b-01', '31153839-01',\n",
       "       '3af61e12-01', '56afec66-01', 'f17cba1c-01', 'ef723f45-01',\n",
       "       '7fe815de-01', '0c2798fc-01', '3db14306-01', 'b150351e-01',\n",
       "       '406267c6-01', '9d2f2754-01', 'e2669ac1-01', 'b04c7e22-01',\n",
       "       '7ea4bc3a-01', '3fea73b7-01', 'e3e6f117-01', '8de13117-01',\n",
       "       'debddfd5-01', '331a2986-01', '8ecf52eb-01', '34a70ec7-01',\n",
       "       'c4c89ecf-01', '2e716263-01', '309f92b8-01', 'ffc6fa69-01',\n",
       "       'a8696e89-01', '2ffdbcd6-01', '42088036-01', '67e60e9a-01',\n",
       "       '71997952-01', '29001bba-01', '64166709-01', '8066ce81-01',\n",
       "       '094bed97-01', 'd6777906-01', '3cff7551-01', '64637df0-01',\n",
       "       '0d8209a5-01', 'abb817e8-01', 'abb70527-01', '975dba01-01',\n",
       "       'ab5d89aa-01', 'e1f1b9f1-01', '7fd00311-01', '4436539a-01',\n",
       "       'b48edca3-01', '08aec933-01', 'bb672548-01', 'a104517f-01',\n",
       "       '6b6a49c9-01', '37cf0058-01', 'ab809ec0-01', 'c7f2ae1f-01',\n",
       "       'cc98a0d6-01', '75d1e140-01', 'ba186814-01', '67efbc32-01',\n",
       "       '93312dbf-01', 'c99fb0ea-01', '50a1cd08-01', '8eb02867-01',\n",
       "       '496f59be-01', '898e2df7-01', 'f9e88ea1-01', 'c6ac9461-01',\n",
       "       'b605017b-01', '1cd921a1-01', 'e462da3a-01', '37ddefc2-01',\n",
       "       '7d26b726-01', 'c9da1ecd-01', '24dfd3f2-01', '1edb5a9c-01',\n",
       "       '53ff5c81-01', 'd0368b09-01', '7ffdcc70-01', '127b9b05-01',\n",
       "       '8d038f04-01', '495e367e-01', '0f971901-01', '6d5799d7-01',\n",
       "       'e7577fec-01', '7da171bb-01', '86d014eb-01', '013c6282-01',\n",
       "       '0612bafb-01', 'c97f4b5a-01', 'f8e4c086-01', 'b179bfba-01',\n",
       "       '33195119-01', '6159f9e1-01', 'dc5adfaa-01', 'dc803ad2-01',\n",
       "       '352d61c5-01', 'd820e924-01', 'ae72e069-01', '64eeece2-01',\n",
       "       '0331acd2-01', '2ac64c0c-01', '2e99446e-01', '91cfb540-01',\n",
       "       '1a2c55e3-01', '9aec48e3-01', 'd8774cba-01', 'ead38cc7-01',\n",
       "       'f660f361-01', '03ccd5c6-01', '860de073-01', '25208985-01',\n",
       "       '1b01606c-01', '3c36cc53-01', 'c9019ba4-01', '2f5b6a15-01',\n",
       "       'c70bec6a-01', '8b74c403-01', 'dc77b6d2-01', '6a0defbb-01',\n",
       "       'f55d964a-01', '46bd8432-01', 'f4d29c8f-01', '83eeda78-01',\n",
       "       'fa1ec896-01', '26653157-01', 'cc44392e-01', 'a8171e47-01',\n",
       "       '4540846b-01', '05229621-01', '568d8c40-01', '9b60ef23-01',\n",
       "       '42d90df4-01', 'eeed12bc-01', 'bcdc99ad-01', 'df813beb-01',\n",
       "       '862141f7-01', 'b411b9a6-01', '4c267efe-01', '92aecb47-01',\n",
       "       'd996f420-01', '56119e86-01', '9d92eb38-01', '48593de4-01',\n",
       "       '5d35dea3-01', '1a8a82d6-01', '31ea7934-01', 'ad73ff7a-01',\n",
       "       '5f64b59a-01', '024610e2-01', '4871ca11-01', 'e2e94e3e-01',\n",
       "       '654bfb14-01', 'a16f2a27-01', '7bcdef97-01', 'da4a5940-01',\n",
       "       '7f092308-01', '46c3ef62-01', 'd0840abe-01', 'de8cfe14-01',\n",
       "       '3de47972-01', '83daccdc-01', '89c6deca-01', '668ac2af-01',\n",
       "       'f88662d9-01', 'c11eb841-01', '8f799833-01', '0c40c50e-01',\n",
       "       'e0e181a7-01', 'bff85876-01', 'dca9c81b-01', '15df68c4-01',\n",
       "       'ff3cc24e-01', '414eb6dd-01', 'c622416c-01', '64ad821e-01',\n",
       "       '16be04c0-01', 'b5a28843-01', 'dff78f8f-01', '15be06c2-01',\n",
       "       '1bca873e-01', '60ada72f-01', '461799ac-01', 'b8c434d8-01',\n",
       "       '1d0fc9fa-01', '287c38bd-01', 'efff5fa3-01', '0ddf379a-01',\n",
       "       '0f0b6520-01', '25f830ed-01', 'dfcdb2d2-01', 'e44efe81-01',\n",
       "       '9c94e7e2-01', '67e35e0d-01', '9cff6ed5-01', '4f56d05f-01',\n",
       "       'f950d2a9-01', '977f7fa0-01', '64b0c9eb-01', '5c7d2bbe-01',\n",
       "       '02f5abd6-01', '35c6eb43-01', '929867c9-01', 'b709e845-01',\n",
       "       '54d1cdb2-01', 'e09f9fb1-01', '20ee8f03-01', '495d3794-01',\n",
       "       'c4967f3e-01', 'de756737-01', '2a49f860-01', '30cee50d-01',\n",
       "       'c1422510-01', '4e3d1def-01', '71b5c193-01', '0a8a0bde-01',\n",
       "       '45990107-01', 'c5f3cf82-01', '7046437b-01', '7ed0931b-01',\n",
       "       '02a60f51-01', 'f3870e7f-01', '26565535-01', '6998b883-01',\n",
       "       '5fb78b8f-01', '8aaff65b-01', '6568724e-01', '009b940c-01',\n",
       "       '8c1c6b91-01', '6b5dfae2-01', '3bf48f7b-01', 'df9e8741-01',\n",
       "       '58dce36f-01', '89a1915d-01', '4d8dc1b8-01', '05fe4c47-01',\n",
       "       '03cb92ab-01', '41e7661d-01', 'b5194e34-01', '790b8877-01',\n",
       "       '802d4582-01', '90fd77c3-01', '3357061d-01', '796f7084-01',\n",
       "       'ef6df705-01', '92b65c3d-01', 'e44feab1-01', '1ddb56b8-01',\n",
       "       'dbe16d8a-01', '7c08b61a-01', '4b0c9aa9-01', 'b958c0e6-01',\n",
       "       'aabe73b5-01', '128714c8-01', '7045ac9d-01', '51107d77-01',\n",
       "       'e07faf97-01', '36a56951-01', '78cb0344-01', '4cbb830e-01',\n",
       "       '3a7dc2df-01', 'f3e1756a-01', '97baab35-01', '4067bc66-01',\n",
       "       'd703acb1-01', '12cc44cf-01', 'ea1a71b7-01', '4d0384e7-01',\n",
       "       '48cb75ac-01', 'f9cebb20-01', '9b052356-01', 'cad63a55-01',\n",
       "       '3622369d-01', '39e4409c-01', '3a7cbfd5-01', '50d2e0c9-01',\n",
       "       'f31ee0a0-01', 'b8c431ef-01', '7db9e989-01', 'e1c14367-01',\n",
       "       '36aa5f0c-01', 'b664cf41-01', '4e13e76d-01', '2093577d-01',\n",
       "       'fa770e43-01', '3473a7d0-01', 'fdc87d0b-01', '06e380e7-01',\n",
       "       '760974fc-01', 'b02579d8-01', '0454c8ee-01', 'd3ff859d-01',\n",
       "       'aedd6f91-01', '3e9fde9b-01', '1017a12e-01', '1bd09e82-01',\n",
       "       '7b8ccdf9-01', '4479e698-01', '8200c001-01', '5c6f4b65-01',\n",
       "       'e5319a42-01', '3926977b-01', '646c8ca4-01', '43126ab5-01',\n",
       "       '55277dfb-01', 'aa8da70c-01', 'c63b3784-01', 'd2ad8c3c-01',\n",
       "       'e5151fe3-01', '552a834c-01', 'b764f5e0-01', 'e1df8397-01',\n",
       "       '09a69e19-01', '1b54502a-01', '05549c3f-01', '847a4f05-01',\n",
       "       '7b145a22-01', 'add1ecf7-01', '97dc55c5-01', '5cd9485e-01',\n",
       "       'ab41efbf-01', '7d222956-01', 'c1771826-01', 'd7880ecf-01',\n",
       "       '87a26f8b-01', '1292a07e-01', 'fb61350e-01', '1cab2426-01',\n",
       "       'd403812a-01', '02466d26-01', 'baf68f59-01', 'cdf9372c-01',\n",
       "       '655cc630-01', '33f71bad-01', '42a1cb6e-01', 'b62af2ba-01',\n",
       "       '3c6a82c0-01', '616550b4-01', '4e6e13f5-01', 'cc1d0489-01',\n",
       "       '4bd31763-01', 'b1b1a208-01', '690fe831-01', 'c9f18c5a-01',\n",
       "       '24623f68-01', '7d36e84f-01', 'e8f5ea03-01', '1e9c60a1-01',\n",
       "       '1e7efa51-01', 'a940331d-01', 'a192f317-01', 'a6b9052c-01',\n",
       "       'b298a23b-01', '43286d65-01', '61436308-01', '6ac5d20a-01',\n",
       "       '63fa6849-01', 'f510471a-01', '5c9c7532-01', '81a77141-01',\n",
       "       '5680b657-01', '8dbd824d-01', '50f7e874-01', '91b86a0e-01',\n",
       "       'a2ac074e-01', '8f9b9db1-01', 'ea93d08a-01', '96c9e98b-01',\n",
       "       '80882b0b-01', '3aa21a3d-01', '05b33c90-01', '87255623-01',\n",
       "       'a0e7e2cb-01', '33e16f9f-01', '9b8ff915-01', '2e0edc69-01',\n",
       "       '2e9453a3-01', 'eb72ed0f-01', '79f184c8-01', '9d4ff3a8-01',\n",
       "       'fd38c256-01', 'd5acecdc-01', '23e8a1e2-01', 'efcb00c5-01',\n",
       "       '2187b002-01', '9d5c8180-01', '8c4d8c8f-01', 'd502f2ef-01',\n",
       "       'ae7b1e16-01', 'c3576e34-01', '9ec72531-01', '990c9fd2-01',\n",
       "       '0675b664-01', 'b4595589-01', '24464cce-01', 'e62efb8c-01',\n",
       "       '31a8fb6e-01', 'a590f88d-01', '23a3a801-01', '39eb06bf-01',\n",
       "       '46381725-01', 'e96d1be0-01', 'fcb44f41-01', 'bd0c62a1-01',\n",
       "       '4f3a6f1d-01', 'c42ae90b-01', '5cb4394d-01', '4414ab85-01',\n",
       "       '32379493-01', 'ab93440e-01', '47cb61f2-01', '20f28136-01',\n",
       "       '21a8290e-01', '02697c6d-01', '1e65e8b6-01', '34576883-01',\n",
       "       '6d045966-01', '3c5df01f-01', '985020d3-01', 'bcc3f989-01',\n",
       "       'd0aaf0c7-01', 'f7bd0de8-01', 'b8511bb3-01', '202e508e-01',\n",
       "       'bc0b143b-01', 'bdc768be-01', 'a6db7f6c-01', '88f58907-01',\n",
       "       '29a001e2-01', '4ac4b868-01', 'b6991a5c-01', '9a1035ce-01',\n",
       "       '381ca51d-01', '6b8f4717-01', '38000245-01', '8132dd76-01',\n",
       "       '5815dfa7-01', '30afda7c-01', 'a178c4cb-01', '74aeecab-01',\n",
       "       '073def33-01', '1237b274-01', '1cc5c083-01', 'cd7d91f7-01',\n",
       "       'f26b6f30-01', '3e66c53a-01', 'dc1467b7-01', 'dcedb1d2-01',\n",
       "       '39535c98-01', '3e8fcd74-01', 'f10a5916-01', '59540bd3-01',\n",
       "       '091795bc-01', 'f03484cb-01', '0477d43c-01', 'a084490c-01',\n",
       "       'fc1ad279-01', '866db09d-01', '13e26b50-01', '7b4bfa5f-01',\n",
       "       'e88ae827-01', '062e8a9e-01', '4d3bcfe2-01', '37815165-01',\n",
       "       '411a001f-01', 'd8051124-01', '7bfb15e1-01', '67917c86-01',\n",
       "       'cd368f02-01', '1ed6430b-01', '4217f682-01', '7ab14d69-01',\n",
       "       'dc15e822-01', '89da0da9-01', '8840a9aa-01', '66f142c3-01',\n",
       "       '6b2f40b3-01', 'b4de3c59-01', 'ab775758-01', '2f96d678-01',\n",
       "       'a6e63b44-01', '326f1d2f-01', 'fb66f93d-01', 'ca1a7ab1-01',\n",
       "       '27cbbd55-01', '091d8c48-01', 'f8032003-01', 'a44b4c9b-01',\n",
       "       '8e6fd9bb-01', 'e6f48ccb-01', '3baed49c-01', 'f89de8b6-01',\n",
       "       '21f7094b-01', '661c9e14-01', 'f6ebbf73-01', '65ebc0b4-01',\n",
       "       'd14c463c-01', '8acb6cfd-01', 'f7338490-01', 'f1123980-01',\n",
       "       '9ba8ade5-01', '21928302-01', '768b77cd-01', '233afd27-01',\n",
       "       'b035e82e-01', 'a8c801ac-01', 'f92d9a1d-01', 'c9a8f599-01',\n",
       "       'a6922987-01', '55f7fa57-01', '25d487f0-01', 'a298b999-01',\n",
       "       '67a2483a-01', 'd28780af-01', 'ec3926c7-01', 'a0ea60ad-01',\n",
       "       '14eb3726-01', '71c37863-01', 'fb262004-01', '0d6dd13e-01',\n",
       "       '5a7a5b5f-01', 'd5e8738a-01', '4e49b469-01', 'cb56cfe9-01',\n",
       "       '0a84b54b-01', '76fff197-01', 'fcd5c8ca-01', '9c6ccd53-01',\n",
       "       '98070171-01', '187a3558-01', '68799ec4-01', '3747f7f3-01',\n",
       "       '66fb73da-01', 'aadf79f5-01', '1cbef065-01', '2e85e981-01',\n",
       "       '2f7e8ec4-01', '835c753d-01', 'b8f5a8a4-01', 'e1bf9708-01',\n",
       "       '6487f45d-01', 'dd3f733f-01', '661e8b98-01', 'bfe25e14-01',\n",
       "       'd9bddc27-01', 'defaa333-01', '2d536910-01', '476523fe-01',\n",
       "       '88cd5f69-01', '48366469-01', '86121d94-01', 'f78c8a8c-01',\n",
       "       'aa6632dc-01', '37bcade3-01', 'b1fde738-01', '27d91991-01',\n",
       "       'f32cc9cf-01', '40239bcc-01', '50f39a3b-01', '0cb3a9b7-01',\n",
       "       'c28344dc-01', 'ff8e9400-01', 'b9209ecb-01', 'f1ced4e7-01',\n",
       "       'bfca9643-01', 'a2052e77-01', '64774238-01', 'a55dbcbd-01',\n",
       "       'a493fe7a-01', 'baaf3fe6-01', 'e06e8d87-01', '1c929132-01',\n",
       "       '2e71e4de-01', '76786e3c-01', '9e0f4467-01', '9ae072e4-01',\n",
       "       'fed4559d-01', '5511c855-01', '419c5c86-01', '24783163-01',\n",
       "       'acc3666a-01', '64ea7aba-01', '7e1a1d26-01', 'df957ae8-01',\n",
       "       'b333da81-01', 'f32f5fee-01', '718fe2fc-01', 'cc14f5bf-01',\n",
       "       'ea89a640-01', '47284821-01', 'c37120e9-01', 'bc27a44c-01',\n",
       "       '0446ec76-01', '0c8a6f67-01', 'f5f2cc27-01', '980d3988-01',\n",
       "       'c90f33b7-01', '28d7815b-01', '5b1552d1-01', '38c4d146-01',\n",
       "       'a2f7d7ff-01', '5184235d-01', '5d2156c2-01', '28d3d2aa-01',\n",
       "       'fff766f7-01', '11e5d6b2-01', '5bcad7f2-01', '4ed23d2c-01',\n",
       "       '600ca1a6-01', '6648eb98-01', 'd9819d62-01', '5bf58db6-01',\n",
       "       '3db9e45c-01', '3ab7b66c-01', '261b3d66-01', '5960f9f9-01',\n",
       "       '3b0da954-01', '344d877e-01', '5c8ff544-01', 'aee4c445-01',\n",
       "       '1304388d-01', '1bbc6f59-01', 'af8c4f80-01', '5e84649d-01',\n",
       "       'b1a3d34d-01', '0fddd162-01', 'effb8a21-01', '203ece42-01',\n",
       "       'c496fe24-01', '02e08012-01', '52cf82ef-01', '1384ffc8-01',\n",
       "       '084b83ee-01', 'eae06fea-01', '6ca898e7-01', 'bf2ce5ca-01',\n",
       "       '37f2ce60-01', 'd378246c-01', 'f0fa706b-01', 'dec2b814-01',\n",
       "       '21e56137-01', '187af661-01', '1a5f7ead-01', '3d0ca905-01',\n",
       "       'f0cb31dc-01', '9c1419d9-01', '7bebaae0-01', '213947da-01',\n",
       "       '0c35e127-01', '7280130e-01', '53cf8b67-01', 'db7ee5eb-01',\n",
       "       'e433911d-01', '9b053689-01', 'b0ce4dfc-01', '0769212d-01',\n",
       "       '343e7e26-01', 'fbf51ded-01', 'c9b46077-01', '4dbfdd9e-01',\n",
       "       '3eed5c61-01', '740288c6-01', '56c5c99b-01', '08bd1674-01',\n",
       "       'ef50bb5c-01', '0ff81a32-01', '4aa72fd5-01', '682eb574-01',\n",
       "       '9231b497-01', '3dec5821-01', '9e519260-01', '41e5d4b0-01',\n",
       "       'a8a3f9e2-01', '13a0501a-01', '4b06adfd-01', '11979e6a-01'], dtype=object)"
      ]
     },
     "execution_count": 7,
     "metadata": {},
     "output_type": "execute_result"
    }
   ],
   "source": [
    "(df1['Tumor_Sample_Barcode'].astype(str) + '-01').unique()"
   ]
  },
  {
   "cell_type": "code",
   "execution_count": 15,
   "metadata": {
    "collapsed": true,
    "scrolled": true
   },
   "outputs": [],
   "source": [
    "#(snopticmaf['Tumor_Sample_Barcode'].astype(str) + '-01').unique()\n"
   ]
  },
  {
   "cell_type": "code",
   "execution_count": null,
   "metadata": {
    "collapsed": true
   },
   "outputs": [],
   "source": [
    "df1.Tumor_Sample_Barcode.unique()"
   ]
  },
  {
   "cell_type": "code",
   "execution_count": 17,
   "metadata": {
    "collapsed": true
   },
   "outputs": [],
   "source": [
    "import csv\n",
    "RESULT = (snopticmaf['Tumor_Sample_Barcode'].astype(str) + '-01').unique()\n",
    "with open(\"/home/maohuaxie/cbio/snoptictotalsample.csv\",'w') as resultFile:\n",
    "    wr = csv.writer(resultFile, dialect='excel')\n",
    "    wr.writerow(RESULT)"
   ]
  },
  {
   "cell_type": "code",
   "execution_count": 21,
   "metadata": {
    "collapsed": true
   },
   "outputs": [],
   "source": [
    "import csv\n",
    "RESULT = snopticmaf.Tumor_Sample_Barcode.unique()\n",
    "with open(\"/home/maohuaxie/cbio/snoptictotal.csv\",'w') as resultFile:\n",
    "    wr = csv.writer(resultFile, dialect='excel')\n",
    "    wr.writerow(RESULT)"
   ]
  },
  {
   "cell_type": "code",
   "execution_count": 22,
   "metadata": {
    "collapsed": true
   },
   "outputs": [],
   "source": [
    "import csv\n",
    "RESULT = lungmaf.Tumor_Sample_Barcode.unique()\n",
    "with open(\"/home/maohuaxie/cbio/snopticlung.csv\",'w') as resultFile:\n",
    "    wr = csv.writer(resultFile, dialect='excel')\n",
    "    wr.writerow(RESULT)"
   ]
  },
  {
   "cell_type": "code",
   "execution_count": 8,
   "metadata": {
    "collapsed": true
   },
   "outputs": [],
   "source": [
    "import csv\n",
    "RESULT = (df1['Tumor_Sample_Barcode'].astype(str) + '-01').unique()\n",
    "with open(\"/home/maohuaxie/cbio/snopt.csv\",'w') as resultFile:\n",
    "    wr = csv.writer(resultFile, dialect='excel')\n",
    "    wr.writerow(RESULT)"
   ]
  },
  {
   "cell_type": "code",
   "execution_count": 9,
   "metadata": {
    "collapsed": true
   },
   "outputs": [],
   "source": [
    "import csv\n",
    "RESULT = df1.Tumor_Sample_Barcode.unique()\n",
    "with open(\"/home/maohuaxie/cbio/snopt2.csv\",'w') as resultFile:\n",
    "    wr = csv.writer(resultFile, dialect='excel')\n",
    "    wr.writerow(RESULT)"
   ]
  },
  {
   "cell_type": "code",
   "execution_count": 16,
   "metadata": {
    "collapsed": true
   },
   "outputs": [],
   "source": [
    "#df3=pd.merge(df1,dfmaf, how = \"inner\", on =[\"Tumor_Sample_Barcode\"])\n"
   ]
  },
  {
   "cell_type": "code",
   "execution_count": 29,
   "metadata": {
    "collapsed": true
   },
   "outputs": [],
   "source": [
    "df3.to_csv(\"/home/maohuaxie/cbio/snapotic.txt\",sep='\\t', index=False, header=True)"
   ]
  },
  {
   "cell_type": "code",
   "execution_count": 4,
   "metadata": {
    "collapsed": true
   },
   "outputs": [],
   "source": [
    "df1.to_csv(\"/home/maohuaxie/emh3to59w.txt\",sep='\\t', index=False, header=True)"
   ]
  },
  {
   "cell_type": "code",
   "execution_count": 5,
   "metadata": {
    "collapsed": true
   },
   "outputs": [],
   "source": [
    "df2 =pd.read_csv(\"/home/maohuaxie/Downloads/emory3to59correct.csv\")"
   ]
  },
  {
   "cell_type": "code",
   "execution_count": 6,
   "metadata": {
    "collapsed": true
   },
   "outputs": [],
   "source": [
    "df3=pd.merge(df1,df2, how = \"inner\", on =[\"Tumor_Sample_Barcode\",\"HGVSc\"])"
   ]
  },
  {
   "cell_type": "code",
   "execution_count": 63,
   "metadata": {
    "collapsed": true
   },
   "outputs": [],
   "source": [
    "df3.to_csv(\"/home/maohuaxie/emh3to59.txt\",sep='\\t', index=False, header=True)"
   ]
  },
  {
   "cell_type": "code",
   "execution_count": 12,
   "metadata": {},
   "outputs": [
    {
     "data": {
      "text/plain": [
       "46"
      ]
     },
     "execution_count": 12,
     "metadata": {},
     "output_type": "execute_result"
    }
   ],
   "source": [
    "len(df3.Tumor_Sample_Barcode.unique())\n"
   ]
  },
  {
   "cell_type": "code",
   "execution_count": 13,
   "metadata": {},
   "outputs": [
    {
     "data": {
      "text/plain": [
       "46"
      ]
     },
     "execution_count": 13,
     "metadata": {},
     "output_type": "execute_result"
    }
   ],
   "source": [
    "len(df2.Tumor_Sample_Barcode.unique())"
   ]
  },
  {
   "cell_type": "code",
   "execution_count": null,
   "metadata": {
    "collapsed": true
   },
   "outputs": [],
   "source": []
  }
 ],
 "metadata": {
  "kernelspec": {
   "display_name": "Python 3",
   "language": "python",
   "name": "python3"
  },
  "language_info": {
   "codemirror_mode": {
    "name": "ipython",
    "version": 3
   },
   "file_extension": ".py",
   "mimetype": "text/x-python",
   "name": "python",
   "nbconvert_exporter": "python",
   "pygments_lexer": "ipython3",
   "version": "3.5.2"
  }
 },
 "nbformat": 4,
 "nbformat_minor": 1
}
