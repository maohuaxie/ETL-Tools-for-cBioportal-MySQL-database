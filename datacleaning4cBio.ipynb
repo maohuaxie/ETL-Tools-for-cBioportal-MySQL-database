{
 "cells": [
  {
   "cell_type": "code",
   "execution_count": 1,
   "metadata": {
    "collapsed": true
   },
   "outputs": [],
   "source": [
    "import os\n",
    "import sys\n",
    "walk_dir = \"/home/maohuaxie/vcfalternate\"\n",
    "for root, subdirs, files in os.walk(walk_dir):\n",
    "    for file in files:\n",
    "        print (file)"
   ]
  },
  {
   "cell_type": "code",
   "execution_count": 3,
   "metadata": {},
   "outputs": [],
   "source": [
    "import os\n",
    "os.chdir(\"/home/maohuaxie/vcftotal\")\n",
    "for f in os.listdir():\n",
    "    f_name,f_ext = os.path.splitext(f)\n",
    "    f1=f_name.split('-')[0]\n",
    "    f2=f_name.split('-')[1]\n",
    "    newname='{}-{}{}'.format(f1,f2,f_ext)\n",
    "    os.rename(f,newname)\n",
    "    "
   ]
  },
  {
   "cell_type": "code",
   "execution_count": 4,
   "metadata": {
    "collapsed": true
   },
   "outputs": [],
   "source": [
    "import pandas as pd\n"
   ]
  },
  {
   "cell_type": "code",
   "execution_count": 5,
   "metadata": {
    "collapsed": true
   },
   "outputs": [],
   "source": [
    "df = pd.read_table(\"/home/maohuaxie/cbio/total.maf\", comment=\"#\")"
   ]
  },
  {
   "cell_type": "code",
   "execution_count": 6,
   "metadata": {
    "scrolled": true
   },
   "outputs": [
    {
     "name": "stderr",
     "output_type": "stream",
     "text": [
      "/home/maohuaxie/.local/lib/python3.5/site-packages/ipykernel_launcher.py:4: SettingWithCopyWarning: \n",
      "A value is trying to be set on a copy of a slice from a DataFrame.\n",
      "Try using .loc[row_indexer,col_indexer] = value instead\n",
      "\n",
      "See the caveats in the documentation: http://pandas.pydata.org/pandas-docs/stable/indexing.html#indexing-view-versus-copy\n",
      "  after removing the cwd from sys.path.\n"
     ]
    }
   ],
   "source": [
    "df1=df.iloc[:,0:42]\n",
    "df1\n",
    "df2=df1.dropna(subset=['t_alt_count'])\n",
    "df2['Tumor_Sample_Barcode']=list(map(lambda x: x[4],df2['Tumor_Sample_Barcode'].str.split('/')))\n"
   ]
  },
  {
   "cell_type": "code",
   "execution_count": 7,
   "metadata": {
    "collapsed": true
   },
   "outputs": [],
   "source": [
    "dfmissed = pd.read_table(\"/home/maohuaxie/cbio/missed.maf\", comment=\"#\")\n",
    "#dfmissed=dfmissed.dropna(subset=['t_alt_count'])\n",
    "dfmissed=dfmissed.iloc[:,0:42]\n",
    "dfmutation = pd.read_table(\"/home/maohuaxie/cbio/totalmutation.txt\", comment=\"#\")\n",
    "dfmutation['Tumor_Sample_Barcode']\n",
    "dfmissed['Tumor_Sample_Barcode']\n",
    "dfcombined=pd.concat([dfmutation, dfmissed], axis=0)\n",
    "dfcombined.to_csv(\"/home/maohuaxie/cbio/Tmutation.txt\",sep='\\t', index=False, header=True)"
   ]
  },
  {
   "cell_type": "code",
   "execution_count": 8,
   "metadata": {
    "collapsed": true,
    "scrolled": false
   },
   "outputs": [],
   "source": [
    "dfmaf = pd.read_csv(\"/home/maohuaxie/cbio/cmp26_synoptic_dump.deided.alt_only.20170904.csv\")\n",
    "dfmaf.rename(columns={'ACC_NO':'Tumor_Sample_Barcode'}, inplace=True)\n",
    "dfmaf['Tumor_Sample_Barcode']=dfmaf['Tumor_Sample_Barcode'].astype(str) +'-01'"
   ]
  },
  {
   "cell_type": "code",
   "execution_count": 10,
   "metadata": {},
   "outputs": [
    {
     "name": "stderr",
     "output_type": "stream",
     "text": [
      "/home/maohuaxie/.local/lib/python3.5/site-packages/ipykernel_launcher.py:4: DeprecationWarning: \n",
      ".ix is deprecated. Please use\n",
      ".loc for label based indexing or\n",
      ".iloc for positional indexing\n",
      "\n",
      "See the documentation here:\n",
      "http://pandas.pydata.org/pandas-docs/stable/indexing.html#deprecate_ix\n",
      "  after removing the cwd from sys.path.\n"
     ]
    }
   ],
   "source": [
    "dftotal=pd.merge(df2,dfmaf, how = \"inner\", on =[\"Tumor_Sample_Barcode\"])\n",
    "dftotal['ACC_NO_HASH_SHORT']=dftotal['ACC_NO_HASH_SHORT'].astype(str) +'-01'\n",
    "dftotal['Tumor_Sample_Barcode']=dftotal['ACC_NO_HASH_SHORT']\n",
    "dftotal=dftotal.ix[:,0:42]\n",
    "dftotal\n",
    "dftotal.to_csv(\"/home/maohuaxie/cbio/totalmutation.txt\",sep='\\t', index=False, header=True)"
   ]
  },
  {
   "cell_type": "code",
   "execution_count": 52,
   "metadata": {
    "collapsed": true
   },
   "outputs": [],
   "source": [
    "import csv\n",
    "RESULT = dftotal.Tumor_Sample_Barcode.unique()\n",
    "with open(\"/home/maohuaxie/cbio/totalhashid.csv\",'w') as resultFile:\n",
    "    wr = csv.writer(resultFile, dialect='excel')\n",
    "    wr.writerow(RESULT)"
   ]
  },
  {
   "cell_type": "code",
   "execution_count": 12,
   "metadata": {
    "collapsed": true
   },
   "outputs": [],
   "source": [
    "dfmerge = pd.read_table(\"/home/maohuaxie/cbio/merged.txt\", comment=\"#\")\n",
    "dfmerge['Tumor_Sample_Barcode']=dfmerge['Tumor_Sample_Barcode'].astype(str) + '-01'\n",
    "#dfmerge"
   ]
  },
  {
   "cell_type": "code",
   "execution_count": 13,
   "metadata": {},
   "outputs": [],
   "source": [
    "totalid=set(dftotal.Tumor_Sample_Barcode.unique())\n",
    "synopticid=set(dfmerge.Tumor_Sample_Barcode.unique())\n",
    "differ=synopticid-totalid\n",
    "dfsub=dfmerge.loc[dfmerge.Tumor_Sample_Barcode.isin(differ)]\n"
   ]
  },
  {
   "cell_type": "code",
   "execution_count": 20,
   "metadata": {
    "collapsed": true
   },
   "outputs": [],
   "source": [
    "import csv\n",
    "RESULT = dfcombined.Tumor_Sample_Barcode.unique()\n",
    "with open(\"/home/maohuaxie/cbio/totalhashid.csv\",'w') as resultFile:\n",
    "    wr = csv.writer(resultFile, dialect='excel')\n",
    "    wr.writerow(RESULT)"
   ]
  },
  {
   "cell_type": "code",
   "execution_count": 21,
   "metadata": {},
   "outputs": [
    {
     "data": {
      "text/plain": [
       "724"
      ]
     },
     "execution_count": 21,
     "metadata": {},
     "output_type": "execute_result"
    }
   ],
   "source": [
    "len(dfcombined.Tumor_Sample_Barcode.unique())"
   ]
  },
  {
   "cell_type": "code",
   "execution_count": null,
   "metadata": {
    "collapsed": true
   },
   "outputs": [],
   "source": []
  }
 ],
 "metadata": {
  "kernelspec": {
   "display_name": "Python 3",
   "language": "python",
   "name": "python3"
  },
  "language_info": {
   "codemirror_mode": {
    "name": "ipython",
    "version": 3
   },
   "file_extension": ".py",
   "mimetype": "text/x-python",
   "name": "python",
   "nbconvert_exporter": "python",
   "pygments_lexer": "ipython3",
   "version": "3.5.2"
  }
 },
 "nbformat": 4,
 "nbformat_minor": 2
}
